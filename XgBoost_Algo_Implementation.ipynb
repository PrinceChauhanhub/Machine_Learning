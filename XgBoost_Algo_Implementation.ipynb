{
  "nbformat": 4,
  "nbformat_minor": 0,
  "metadata": {
    "colab": {
      "provenance": [],
      "gpuType": "T4",
      "authorship_tag": "ABX9TyNcUjaFpCUl+tgtjld/RjA+",
      "include_colab_link": true
    },
    "kernelspec": {
      "name": "python3",
      "display_name": "Python 3"
    },
    "language_info": {
      "name": "python"
    },
    "accelerator": "GPU"
  },
  "cells": [
    {
      "cell_type": "markdown",
      "metadata": {
        "id": "view-in-github",
        "colab_type": "text"
      },
      "source": [
        "<a href=\"https://colab.research.google.com/github/PrinceChauhanhub/Machine_Learning/blob/main/XgBoost_Algo_Implementation.ipynb\" target=\"_parent\"><img src=\"https://colab.research.google.com/assets/colab-badge.svg\" alt=\"Open In Colab\"/></a>"
      ]
    },
    {
      "cell_type": "markdown",
      "source": [
        "import all libraries"
      ],
      "metadata": {
        "id": "v59mfOq_RSRf"
      }
    },
    {
      "cell_type": "code",
      "execution_count": null,
      "metadata": {
        "id": "2QWvGw8MREE5"
      },
      "outputs": [],
      "source": [
        "import pandas as pd\n",
        "import numpy as np\n",
        "import seaborn as sns\n",
        "import matplotlib.pyplot as plt"
      ]
    },
    {
      "cell_type": "code",
      "source": [
        "import xgboost as xgb\n",
        "from sklearn.datasets import fetch_california_housing\n",
        "from sklearn.model_selection import train_test_split, GridSearchCV\n",
        "from sklearn.metrics import mean_squared_error\n",
        "from sklearn.ensemble import RandomForestRegressor,GradientBoostingRegressor\n",
        "import warnings\n",
        "\n",
        "## Ignore Warnings\n",
        "warnings.filterwarnings('ignore',category = DeprecationWarning)\n"
      ],
      "metadata": {
        "id": "c1WUVJg-RfZW"
      },
      "execution_count": null,
      "outputs": []
    },
    {
      "cell_type": "markdown",
      "source": [
        "Load the data and splitting into train and test set"
      ],
      "metadata": {
        "id": "8H2s8EsmSdxX"
      }
    },
    {
      "cell_type": "code",
      "source": [
        "# Load the california Housing dataset\n",
        "california_housing = fetch_california_housing()\n",
        "X, y = california_housing.data, california_housing.target\n",
        "\n",
        "# Split the data into training and testing sets\n",
        "X_train, X_test, y_train, y_test = train_test_split(X, y, test_size=0.2, random_state=42)\n"
      ],
      "metadata": {
        "id": "2N0eXq7LSckB"
      },
      "execution_count": null,
      "outputs": []
    },
    {
      "cell_type": "code",
      "source": [
        "print(california_housing)"
      ],
      "metadata": {
        "colab": {
          "base_uri": "https://localhost:8080/"
        },
        "id": "XIi7q7K_Sj3l",
        "outputId": "82474d29-598a-429c-d263-66873cda5d04"
      },
      "execution_count": null,
      "outputs": [
        {
          "output_type": "stream",
          "name": "stdout",
          "text": [
            "{'data': array([[   8.3252    ,   41.        ,    6.98412698, ...,    2.55555556,\n",
            "          37.88      , -122.23      ],\n",
            "       [   8.3014    ,   21.        ,    6.23813708, ...,    2.10984183,\n",
            "          37.86      , -122.22      ],\n",
            "       [   7.2574    ,   52.        ,    8.28813559, ...,    2.80225989,\n",
            "          37.85      , -122.24      ],\n",
            "       ...,\n",
            "       [   1.7       ,   17.        ,    5.20554273, ...,    2.3256351 ,\n",
            "          39.43      , -121.22      ],\n",
            "       [   1.8672    ,   18.        ,    5.32951289, ...,    2.12320917,\n",
            "          39.43      , -121.32      ],\n",
            "       [   2.3886    ,   16.        ,    5.25471698, ...,    2.61698113,\n",
            "          39.37      , -121.24      ]]), 'target': array([4.526, 3.585, 3.521, ..., 0.923, 0.847, 0.894]), 'frame': None, 'target_names': ['MedHouseVal'], 'feature_names': ['MedInc', 'HouseAge', 'AveRooms', 'AveBedrms', 'Population', 'AveOccup', 'Latitude', 'Longitude'], 'DESCR': '.. _california_housing_dataset:\\n\\nCalifornia Housing dataset\\n--------------------------\\n\\n**Data Set Characteristics:**\\n\\n    :Number of Instances: 20640\\n\\n    :Number of Attributes: 8 numeric, predictive attributes and the target\\n\\n    :Attribute Information:\\n        - MedInc        median income in block group\\n        - HouseAge      median house age in block group\\n        - AveRooms      average number of rooms per household\\n        - AveBedrms     average number of bedrooms per household\\n        - Population    block group population\\n        - AveOccup      average number of household members\\n        - Latitude      block group latitude\\n        - Longitude     block group longitude\\n\\n    :Missing Attribute Values: None\\n\\nThis dataset was obtained from the StatLib repository.\\nhttps://www.dcc.fc.up.pt/~ltorgo/Regression/cal_housing.html\\n\\nThe target variable is the median house value for California districts,\\nexpressed in hundreds of thousands of dollars ($100,000).\\n\\nThis dataset was derived from the 1990 U.S. census, using one row per census\\nblock group. A block group is the smallest geographical unit for which the U.S.\\nCensus Bureau publishes sample data (a block group typically has a population\\nof 600 to 3,000 people).\\n\\nA household is a group of people residing within a home. Since the average\\nnumber of rooms and bedrooms in this dataset are provided per household, these\\ncolumns may take surprisingly large values for block groups with few households\\nand many empty houses, such as vacation resorts.\\n\\nIt can be downloaded/loaded using the\\n:func:`sklearn.datasets.fetch_california_housing` function.\\n\\n.. topic:: References\\n\\n    - Pace, R. Kelley and Ronald Barry, Sparse Spatial Autoregressions,\\n      Statistics and Probability Letters, 33 (1997) 291-297\\n'}\n"
          ]
        }
      ]
    },
    {
      "cell_type": "code",
      "source": [
        "## Initializing the Model\n",
        "xgb_regressor = xgb.XGBRegressor(Objective= 'reg:squarederror', random_state=42)\n",
        "rf_regressor = RandomForestRegressor(random_state=42)\n",
        "gb_regressor = GradientBoostingRegressor(random_state=42)\n",
        "\n",
        "# Data Modelling\n",
        "model_xgb = xgb_regressor.fit(X_train, y_train)\n",
        "model_rf = rf_regressor.fit(X_train, y_train)\n",
        "model_gb = gb_regressor.fit(X_train, y_train)"
      ],
      "metadata": {
        "colab": {
          "base_uri": "https://localhost:8080/"
        },
        "id": "KTPxwj33Sn9F",
        "outputId": "54cf9224-2bb8-4c32-8635-c77bbda5d7d1"
      },
      "execution_count": null,
      "outputs": [
        {
          "output_type": "stream",
          "name": "stderr",
          "text": [
            "/usr/local/lib/python3.10/dist-packages/xgboost/core.py:158: UserWarning: [11:15:59] WARNING: /workspace/src/learner.cc:740: \n",
            "Parameters: { \"Objective\" } are not used.\n",
            "\n",
            "  warnings.warn(smsg, UserWarning)\n"
          ]
        }
      ]
    },
    {
      "cell_type": "code",
      "source": [
        "param_grid_xgb = {\n",
        "    'lambda': [0.01, 0.1, 1, 10],\n",
        "    'gamma': [0.01, 0.1, 1, 10],\n",
        "    'max_depth': [3, 5, 7],\n",
        "    'learning_rate': [0.01, 0.1, 0.2],\n",
        "    'n_estimators': [100, 200, 300]\n",
        "}\n",
        "\n",
        "param_grid_rf = {\n",
        "    'n_estimators': [100, 200, 300],\n",
        "    'max_depth': [None, 10, 20, 30],\n",
        "    'min_samples_split': [2, 5, 10],\n",
        "    'min_samples_leaf': [1, 2, 4]\n",
        "}\n",
        "\n",
        "param_grid_gb = {\n",
        "    'n_estimators': [100, 200, 300],\n",
        "    'learning_rate': [0.01, 0.1, 0.2],\n",
        "    'max_depth': [3, 5, 7],\n",
        "    'min_samples_split': [2, 5, 10],\n",
        "    'min_samples_leaf': [1, 2, 4]\n",
        "}\n",
        "\n",
        "# Set up GridSearchCV for each Model\n",
        "grid_search_xgb = GridSearchCV(estimator=xgb_regressor, param_grid=param_grid_xgb, cv=5, scoring='neg_mean_squared_error', verbose = 1, n_jobs=-1)\n",
        "grid_search_rf = GridSearchCV(estimator=rf_regressor, param_grid=param_grid_rf, cv=5, scoring='neg_mean_squared_error', verbose = 1, n_jobs=-1)\n",
        "grid_search_gb = GridSearchCV(estimator=gb_regressor, param_grid=param_grid_gb, cv=5, scoring='neg_mean_squared_error', verbose = 1, n_jobs=-1)\n",
        "\n",
        "# Fit the models\n",
        "print(\"Tuning XGBoost Model\")\n",
        "grid_search_xgb.fit(X_train, y_train)\n",
        "print(\"Tuning Random Forest Model......\")\n",
        "grid_search_rf.fit(X_train, y_train)\n",
        "print(\"Tuning Gradient Boosting Model........\")\n",
        "grid_search_gb.fit(X_train, y_train)\n",
        "\n",
        "# Best Models\n",
        "best_xgb = grid_search_xgb.best_estimator_\n",
        "best_rf = grid_search_rf.best_estimator_\n",
        "best_gb = grid_search_gb.best_estimator_\n",
        "\n",
        "#predictions\n",
        "y_test_xgb = best_xgb.predict(X_test)\n",
        "y_test_rf = best_rf.predict(X_test)\n",
        "y_test_gb = best_gb.predict(X_test)"
      ],
      "metadata": {
        "colab": {
          "base_uri": "https://localhost:8080/"
        },
        "id": "7ZRZV7DHTSVj",
        "outputId": "2773b9b8-044e-4fee-85fe-fd4c750e627c"
      },
      "execution_count": null,
      "outputs": [
        {
          "output_type": "stream",
          "name": "stdout",
          "text": [
            "Tuning XGBoost Model\n",
            "Fitting 5 folds for each of 432 candidates, totalling 2160 fits\n"
          ]
        },
        {
          "output_type": "stream",
          "name": "stderr",
          "text": [
            "/usr/local/lib/python3.10/dist-packages/xgboost/core.py:158: UserWarning: [11:37:46] WARNING: /workspace/src/learner.cc:740: \n",
            "Parameters: { \"Objective\" } are not used.\n",
            "\n",
            "  warnings.warn(smsg, UserWarning)\n"
          ]
        },
        {
          "output_type": "stream",
          "name": "stdout",
          "text": [
            "Tuning Random Forest Model......\n",
            "Fitting 5 folds for each of 108 candidates, totalling 540 fits\n"
          ]
        },
        {
          "output_type": "stream",
          "name": "stderr",
          "text": [
            "/usr/local/lib/python3.10/dist-packages/joblib/externals/loky/process_executor.py:752: UserWarning: A worker stopped while some jobs were given to the executor. This can be caused by a too short worker timeout or by a memory leak.\n",
            "  warnings.warn(\n"
          ]
        }
      ]
    },
    {
      "cell_type": "markdown",
      "source": [
        "Model Prediction and Evaluation"
      ],
      "metadata": {
        "id": "dXLqi9fgVAgf"
      }
    },
    {
      "cell_type": "code",
      "source": [
        "y_pred_xgb = model_xgb.predict(X_test)\n",
        "y_pred_rf = model_rf.predict(X_test)\n",
        "y_pred_gb = model_gb.predict(X_test)\n",
        "\n",
        "# Calculate Mean Squared Error\n",
        "mse_xgb = mean_squared_error(y_test, y_pred_xgb)\n",
        "mse_rf = mean_squared_error(y_test, y_pred_rf)\n",
        "mse_gb = mean_squared_error(y_test, y_pred_gb)\n",
        "\n",
        "#print the results\n",
        "\n",
        "print(\"Beast parameter for XGBRegressor: \", grid_search_xgb.best_params_)\n",
        "print(\"Mean Squared Error (XGBoost):\", mse_xgb)\n",
        "\n",
        "print(\"Beast parameter for Random Forest Regressor: \", grid_search_rf.best_params_)\n",
        "print(\"Mean Squared Error (Random Forest):\", mse_rf)\n",
        "\n",
        "print(\"Beast parameter for Gradient Boosting Regressor: \", grid_search_gb.best_params_)\n",
        "print(\"Mean Squared Error (Gradient Boosting):\", mse_gb)"
      ],
      "metadata": {
        "id": "4L2bx-jRU__R"
      },
      "execution_count": null,
      "outputs": []
    }
  ]
}