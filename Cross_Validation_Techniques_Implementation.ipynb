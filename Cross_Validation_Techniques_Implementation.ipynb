{
  "nbformat": 4,
  "nbformat_minor": 0,
  "metadata": {
    "colab": {
      "provenance": [],
      "authorship_tag": "ABX9TyMbfWxiv7K+pkeVBoEb5HPr",
      "include_colab_link": true
    },
    "kernelspec": {
      "name": "python3",
      "display_name": "Python 3"
    },
    "language_info": {
      "name": "python"
    }
  },
  "cells": [
    {
      "cell_type": "markdown",
      "metadata": {
        "id": "view-in-github",
        "colab_type": "text"
      },
      "source": [
        "<a href=\"https://colab.research.google.com/github/PrinceChauhanhub/Machine_Learning/blob/main/Cross_Validation_Techniques_Implementation.ipynb\" target=\"_parent\"><img src=\"https://colab.research.google.com/assets/colab-badge.svg\" alt=\"Open In Colab\"/></a>"
      ]
    },
    {
      "cell_type": "code",
      "execution_count": 2,
      "metadata": {
        "colab": {
          "base_uri": "https://localhost:8080/"
        },
        "id": "OsK8UzuQTC-z",
        "outputId": "212ced86-7def-4c7f-fb87-e427c8600ffc"
      },
      "outputs": [
        {
          "output_type": "stream",
          "name": "stdout",
          "text": [
            "K-means Cross-Validation Scores: [1.         0.96666667 0.93333333 0.93333333 0.96666667]\n",
            "Mean Accuracy 0.9600000000000002\n"
          ]
        }
      ],
      "source": [
        "from sklearn.datasets import load_iris\n",
        "from sklearn.model_selection import cross_val_score, KFold\n",
        "from sklearn.ensemble import RandomForestClassifier\n",
        "import numpy as np\n",
        "\n",
        "## Load the Iris dataset\n",
        "iris = load_iris()\n",
        "X, y = iris.data, iris.target\n",
        "\n",
        "## Create a RandomForest classifier\n",
        "clf = RandomForestClassifier(random_state=42)\n",
        "\n",
        "## K-fold Cross Validation\n",
        "kf = KFold(n_splits=5, shuffle=True, random_state=42)\n",
        "scores = cross_val_score(clf, X, y, cv=kf, scoring = 'accuracy')\n",
        "\n",
        "## Print the cross-validation scores\n",
        "print(\"K-means Cross-Validation Scores:\",scores)\n",
        "print(\"Mean Accuracy\",np.mean(scores))"
      ]
    }
  ]
}